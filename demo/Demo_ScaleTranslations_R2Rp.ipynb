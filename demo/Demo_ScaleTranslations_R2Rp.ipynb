{
 "cells": [
  {
   "cell_type": "markdown",
   "metadata": {},
   "source": [
    "# Scale-translation networks"
   ]
  },
  {
   "cell_type": "markdown",
   "metadata": {},
   "source": [
    "This notebook isn't as complete a the SE(2) one (showing scale equivariance is a bit more involved due to interpolation and bandlimits). Instead this notebook shows some basic properties of the networks and some usage examples. For complete example in computer vision see the experiments repository."
   ]
  },
  {
   "cell_type": "markdown",
   "metadata": {},
   "source": [
    "-----------------------\n",
    "## Importing libraries"
   ]
  },
  {
   "cell_type": "markdown",
   "metadata": {},
   "source": [
    "Add the library to the system path via the relative folder structure:"
   ]
  },
  {
   "cell_type": "code",
   "execution_count": 1,
   "metadata": {
    "pycharm": {
     "is_executing": false
    }
   },
   "outputs": [],
   "source": [
    "import os,sys\n",
    "splinets_source =  os.path.join(os.getcwd(),'..')\n",
    "if splinets_source not in sys.path:\n",
    "    sys.path.append(splinets_source)"
   ]
  },
  {
   "cell_type": "markdown",
   "metadata": {},
   "source": [
    "Import below the gsplinets library with a specified group (whose class implementation can be found in gsplines/group). The layers object which is instantiated with the group sturcture, can generate convolution layers (e.g. layers.ConvRnG) which are equivariant w.r.t. the chosen group."
   ]
  },
  {
   "cell_type": "code",
   "execution_count": 2,
   "metadata": {
    "pycharm": {
     "is_executing": false
    }
   },
   "outputs": [],
   "source": [
    "# Import the gsplintes package and the layers\n",
    "import gsplinets_tf as gsplinets\n",
    "layers = gsplinets.layers('R2R+') # The layers is instantiated with the group structure as input"
   ]
  },
  {
   "cell_type": "markdown",
   "metadata": {},
   "source": [
    "The following are not used explictly but you can check your self which properties/attributes they possess"
   ]
  },
  {
   "cell_type": "code",
   "execution_count": 3,
   "metadata": {
    "pycharm": {
     "is_executing": false
    }
   },
   "outputs": [],
   "source": [
    "group = layers.group\n",
    "G = group.G\n",
    "Rn = group.Rn\n",
    "H = group.H"
   ]
  },
  {
   "cell_type": "markdown",
   "metadata": {},
   "source": [
    "Import the other libraries used in this demo"
   ]
  },
  {
   "cell_type": "code",
   "execution_count": 4,
   "metadata": {
    "pycharm": {
     "is_executing": false
    }
   },
   "outputs": [],
   "source": [
    "import tensorflow as tf\n",
    "import numpy as np\n",
    "from matplotlib import pyplot as plt\n",
    "import matplotlib"
   ]
  },
  {
   "cell_type": "markdown",
   "metadata": {},
   "source": [
    "-------------------\n",
    "## Equivariant convolution layers"
   ]
  },
  {
   "cell_type": "markdown",
   "metadata": {},
   "source": [
    "Here we build a basic scale-translation equivariant network that consists of a lifting layer (ConvRnG) followed by a group convolution layer (ConvGG)."
   ]
  },
  {
   "cell_type": "markdown",
   "metadata": {},
   "source": [
    "### The input feature map"
   ]
  },
  {
   "cell_type": "code",
   "execution_count": 5,
   "metadata": {
    "pycharm": {
     "is_executing": false
    }
   },
   "outputs": [],
   "source": [
    "Nxy = 21 # This spatial dimension\n",
    "N_in = 5 # This many feature channels\n",
    "B = 4 # Batch size\n",
    "# For now we work with a placeholder\n",
    "inputs_ph = tf.placeholder( dtype = tf.float32, shape = [None,Nxy,Nxy,N_in] )"
   ]
  },
  {
   "cell_type": "markdown",
   "metadata": {},
   "source": [
    "### The lifting layer"
   ]
  },
  {
   "cell_type": "code",
   "execution_count": 6,
   "metadata": {
    "pycharm": {
     "is_executing": false
    }
   },
   "outputs": [],
   "source": [
    "# The size of the convolution kernels is set to:\n",
    "kernel_size = 11 # 11x11 conv kernels (we set this rather high because we are going to scale the kernels and sample them on a fixed grid)\n",
    "basis_size = 5 # parameterized 5x5 weights\n",
    "scale_range = 2\n",
    "\n",
    "# The settings for the lifting layer are:\n",
    "N_out_1 = 13 # This many feature channels after the lifting layer\n",
    "N_h_1 = 8 # This many rotations to sample (remember G = R^d \\rtimes H, which in our current case H=SO(2), the rotation group)\n",
    "h_grid_1 = layers.H.grid_global(N_h_1,scale_range) # The grid on which we sample the rotation. Global refers to that we aim to cover SO(2) globally, and equidistantly with N_h_1 samples\n",
    "# Construct layer 1\n",
    "l_1 = layers.ConvRnG(inputs_ph,N_out_1,kernel_size,h_grid_1,xx_basis_size = basis_size)\n",
    "output_1 = l_1.outputs"
   ]
  },
  {
   "cell_type": "markdown",
   "metadata": {},
   "source": [
    "The output tensor has one dimension extra because the domain of positions/translations is now expanded with a scale parameter axis which covers a scale range of 2 with 8 grid points."
   ]
  },
  {
   "cell_type": "code",
   "execution_count": 7,
   "metadata": {
    "pycharm": {
     "is_executing": false
    }
   },
   "outputs": [
    {
     "data": {
      "text/plain": [
       "TensorShape([Dimension(None), Dimension(11), Dimension(11), Dimension(8), Dimension(13)])"
      ]
     },
     "execution_count": 7,
     "metadata": {},
     "output_type": "execute_result"
    }
   ],
   "source": [
    "output_1.shape"
   ]
  },
  {
   "cell_type": "markdown",
   "metadata": {},
   "source": [
    "### The group convolution layer"
   ]
  },
  {
   "cell_type": "code",
   "execution_count": 8,
   "metadata": {
    "pycharm": {
     "is_executing": false
    }
   },
   "outputs": [],
   "source": [
    "# The setting for the subseequent group convolution layer:\n",
    "N_out_2 = 5 # This many outptu feature channels\n",
    "N_h_2 = 8 # This many rotations to sample (does not have to be the same as in the previous layer (as we demo here), but it is often convenient to do so)\n",
    "h_grid_2 = layers.H.grid_global(N_h_2,scale_range)\n",
    "# Construct layer 2\n",
    "l_2 = layers.ConvGG(output_1,N_out_2,kernel_size,h_grid_2,input_h_grid=h_grid_1,xx_basis_size = basis_size,h_basis_type='B_2')\n",
    "output_2 = l_2.outputs"
   ]
  },
  {
   "cell_type": "markdown",
   "metadata": {},
   "source": [
    "----------------\n",
    "## What does the set of transformed lifting kernels look like?"
   ]
  },
  {
   "cell_type": "markdown",
   "metadata": {},
   "source": [
    "First initialize it (give all trainable parameters their initial values)"
   ]
  },
  {
   "cell_type": "code",
   "execution_count": 9,
   "metadata": {
    "pycharm": {
     "is_executing": false
    }
   },
   "outputs": [],
   "source": [
    "initializer = tf.global_variables_initializer()\n",
    "session = tf.Session(graph=tf.get_default_graph()) #-- Session created\n",
    "session.run(initializer)"
   ]
  },
  {
   "cell_type": "markdown",
   "metadata": {},
   "source": [
    "In the same way as done in the SE(2) demo we can transform the base convolution kernel via a scaling parameter via l_1.kernel(h), where h is a scale parameter. Let's do this for all scales in h_grid_1."
   ]
  },
  {
   "cell_type": "code",
   "execution_count": 11,
   "metadata": {
    "pycharm": {
     "is_executing": false
    }
   },
   "outputs": [
    {
     "data": {
      "image/png": "[encoded data removed]",
      "text/plain": [
       "<Figure size 1080x1080 with 8 Axes>"
      ]
     },
     "metadata": {
      "needs_background": "light"
     },
     "output_type": "display_data"
    },
    {
     "name": "stdout",
     "output_type": "stream",
     "text": [
      "Base kernel: from left to right, scaled versions of the base kernel. These are used in the lifting layer.\n"
     ]
    }
   ],
   "source": [
    "plt.subplots(1,N_h_1,figsize=(15,15))\n",
    "for i in range(N_h_1):\n",
    "    kern = session.run(l_1.kernel(h_grid_1.grid[i]))\n",
    "    plt.subplot(1,N_h_1,i+1)\n",
    "    plt.imshow(kern[:,:,0,0],vmin=-0.03, vmax=0.03) # Only show for the first input channel and output channel\n",
    "plt.show()\n",
    "print('Base kernel: from left to right, scaled versions of the base kernel. These are used in the lifting layer.')"
   ]
  },
  {
   "cell_type": "markdown",
   "metadata": {},
   "source": [
    "The same can be checked for the group convolution kernel. But now the convolution kernel is 3D. Increasing transformations are now plotted from top to bottom, and from left to right are the spatial slices of the conv kernels at the respective scale axis. From the figures below we see that a scaling of the 3D conv kernel corresponds to a spatial scaling and a shift along the scale axis."
   ]
  },
  {
   "cell_type": "code",
   "execution_count": 12,
   "metadata": {
    "pycharm": {
     "is_executing": false
    }
   },
   "outputs": [
    {
     "data": {
      "image/png": "[encoded data removed]",
      "text/plain": [
       "<Figure size 1080x1080 with 8 Axes>"
      ]
     },
     "metadata": {
      "needs_background": "light"
     },
     "output_type": "display_data"
    },
    {
     "name": "stdout",
     "output_type": "stream",
     "text": [
      "kernel(0): from left to right the planar kernels for each h\n"
     ]
    },
    {
     "data": {
      "image/png": "[encoded data removed]",
      "text/plain": [
       "<Figure size 1080x1080 with 8 Axes>"
      ]
     },
     "metadata": {
      "needs_background": "light"
     },
     "output_type": "display_data"
    },
    {
     "name": "stdout",
     "output_type": "stream",
     "text": [
      "kernel(scale1): from left to right the planar kernels for each h\n"
     ]
    },
    {
     "data": {
      "image/png": "[encoded data removed]",
      "text/plain": [
       "<Figure size 1080x1080 with 8 Axes>"
      ]
     },
     "metadata": {
      "needs_background": "light"
     },
     "output_type": "display_data"
    },
    {
     "name": "stdout",
     "output_type": "stream",
     "text": [
      "kernel(scale2): from left to right the planar kernels for each h\n",
      "and so on...\n"
     ]
    }
   ],
   "source": [
    "kern_2_0 = (session.run(l_2.kernel()))\n",
    "plt.subplots(1,N_h_1,figsize=(15,15))\n",
    "for i in range(N_h_1):\n",
    "    plt.subplot(1,N_h_1,i+1)\n",
    "    plt.imshow(kern_2_0[:,:,i,0,0],vmin=-.03, vmax=.03)\n",
    "plt.show()\n",
    "print('kernel(0): from left to right the planar kernels for each h')\n",
    "kern_2_1 = (session.run(l_2.kernel(h_grid_2.grid[1])))\n",
    "plt.subplots(1,N_h_1,figsize=(15,15))\n",
    "for i in range(N_h_1):\n",
    "    plt.subplot(1,N_h_1,i+1)\n",
    "    plt.imshow(kern_2_1[:,:,i,0,0],vmin=-0.03, vmax=0.03)\n",
    "plt.show()\n",
    "print('kernel(scale1): from left to right the planar kernels for each h')\n",
    "kern_2_2 = (session.run(l_2.kernel(h_grid_2.grid[2])))\n",
    "plt.subplots(1,N_h_1,figsize=(15,15))\n",
    "for i in range(N_h_1):\n",
    "    plt.subplot(1,N_h_1,i+1)\n",
    "    plt.imshow(kern_2_2[:,:,i,0,0],vmin=-0.03, vmax=0.03)\n",
    "plt.show()\n",
    "print('kernel(scale2): from left to right the planar kernels for each h')\n",
    "print('and so on...')"
   ]
  },
  {
   "cell_type": "markdown",
   "metadata": {},
   "source": [
    "Note that in the above the full G-conv kernel enables interactions between all scales of the input feature map. Also note that the kernel is zero-padded and that kernel information is shifted out of the scale domain. It may therefore be more advantageous to localize the convolution kernels."
   ]
  },
  {
   "cell_type": "markdown",
   "metadata": {},
   "source": [
    "## One can also decide to work with G-conv kernels that are localized along the scale axis"
   ]
  },
  {
   "cell_type": "markdown",
   "metadata": {},
   "source": [
    "We then set h_basis_local=True, and set h_basis_size=3 to use 3 weights along the h_axis. Additionally we set h_basis_type='B_1' such that each spline really only covers one bin, this makes the visualization clearer."
   ]
  },
  {
   "cell_type": "code",
   "execution_count": 13,
   "metadata": {
    "pycharm": {
     "is_executing": false
    }
   },
   "outputs": [],
   "source": [
    "# The setting for the subseequent group convolution layer:\n",
    "N_out_2 = 5 # This many outptu feature channels\n",
    "N_h_2 = 8 # This many rotations to sample (does not have to be the same as in the previous layer (as we demo here), but it is often convenient to do so)\n",
    "h_grid_2 = layers.H.grid_global(N_h_2,scale_range)\n",
    "# Construct layer 2\n",
    "l_2 = layers.ConvGG(output_1,N_out_2,kernel_size,h_grid_2,input_h_grid=h_grid_1,xx_basis_size = basis_size,h_basis_local=True,h_basis_size=3,h_basis_scale=h_grid_1.scale,h_basis_type='B_1')\n",
    "output_2 = l_2.outputs"
   ]
  },
  {
   "cell_type": "markdown",
   "metadata": {},
   "source": [
    "Again reinitialize the weights"
   ]
  },
  {
   "cell_type": "code",
   "execution_count": 14,
   "metadata": {
    "pycharm": {
     "is_executing": false
    }
   },
   "outputs": [],
   "source": [
    "initializer = tf.global_variables_initializer()\n",
    "session = tf.Session(graph=tf.get_default_graph()) #-- Session created\n",
    "session.run(initializer)"
   ]
  },
  {
   "cell_type": "markdown",
   "metadata": {},
   "source": [
    "Show the kernels (we rescale for consistent plot range)"
   ]
  },
  {
   "cell_type": "code",
   "execution_count": 15,
   "metadata": {
    "pycharm": {
     "is_executing": false
    }
   },
   "outputs": [
    {
     "data": {
      "image/png": "[encoded data removed]",
      "text/plain": [
       "<Figure size 1080x1080 with 8 Axes>"
      ]
     },
     "metadata": {
      "needs_background": "light"
     },
     "output_type": "display_data"
    },
    {
     "name": "stdout",
     "output_type": "stream",
     "text": [
      "kernel(0): from left to right the planar kernels for each h\n"
     ]
    },
    {
     "data": {
      "image/png": "[encoded data removed]",
      "text/plain": [
       "<Figure size 1080x1080 with 8 Axes>"
      ]
     },
     "metadata": {
      "needs_background": "light"
     },
     "output_type": "display_data"
    },
    {
     "name": "stdout",
     "output_type": "stream",
     "text": [
      "kernel(scale1): from left to right the planar kernels for each h\n"
     ]
    },
    {
     "data": {
      "image/png": "[encoded data removed]",
      "text/plain": [
       "<Figure size 1080x1080 with 8 Axes>"
      ]
     },
     "metadata": {
      "needs_background": "light"
     },
     "output_type": "display_data"
    },
    {
     "name": "stdout",
     "output_type": "stream",
     "text": [
      "kernel(scale2): from left to right the planar kernels for each h\n"
     ]
    },
    {
     "data": {
      "image/png": "[encoded data removed]",
      "text/plain": [
       "<Figure size 1080x1080 with 8 Axes>"
      ]
     },
     "metadata": {
      "needs_background": "light"
     },
     "output_type": "display_data"
    },
    {
     "name": "stdout",
     "output_type": "stream",
     "text": [
      "kernel(scale3): from left to right the planar kernels for each h\n"
     ]
    },
    {
     "data": {
      "image/png": "[encoded data removed]",
      "text/plain": [
       "<Figure size 1080x1080 with 8 Axes>"
      ]
     },
     "metadata": {
      "needs_background": "light"
     },
     "output_type": "display_data"
    },
    {
     "name": "stdout",
     "output_type": "stream",
     "text": [
      "kernel(scale4): from left to right the planar kernels for each h\n",
      "and so on...\n"
     ]
    }
   ],
   "source": [
    "kern_2_0 = (session.run(l_2.kernel()))\n",
    "plt.subplots(1,N_h_1,figsize=(15,15))\n",
    "for i in range(N_h_1):\n",
    "    plt.subplot(1,N_h_1,i+1)\n",
    "    plt.imshow(kern_2_0[:,:,i,0,0],vmin=-0.02, vmax=0.02)\n",
    "plt.show()\n",
    "print('kernel(0): from left to right the planar kernels for each h')\n",
    "kern_2_1 = (session.run(l_2.kernel(h_grid_2.grid[1])))\n",
    "plt.subplots(1,N_h_1,figsize=(15,15))\n",
    "for i in range(N_h_1):\n",
    "    plt.subplot(1,N_h_1,i+1)\n",
    "    plt.imshow(kern_2_1[:,:,i,0,0],vmin=-0.02, vmax=0.02)\n",
    "plt.show()\n",
    "print('kernel(scale1): from left to right the planar kernels for each h')\n",
    "kern_2_2 = (session.run(l_2.kernel(h_grid_2.grid[2])))\n",
    "plt.subplots(1,N_h_1,figsize=(15,15))\n",
    "for i in range(N_h_1):\n",
    "    plt.subplot(1,N_h_1,i+1)\n",
    "    plt.imshow(kern_2_2[:,:,i,0,0],vmin=-0.02, vmax=0.02)\n",
    "plt.show()\n",
    "print('kernel(scale2): from left to right the planar kernels for each h')\n",
    "kern_2_3 = (session.run(l_2.kernel(h_grid_2.grid[3])))\n",
    "plt.subplots(1,N_h_1,figsize=(15,15))\n",
    "for i in range(N_h_1):\n",
    "    plt.subplot(1,N_h_1,i+1)\n",
    "    plt.imshow(kern_2_3[:,:,i,0,0],vmin=-0.02, vmax=0.02)\n",
    "plt.show()\n",
    "print('kernel(scale3): from left to right the planar kernels for each h')\n",
    "kern_2_4 = (session.run(l_2.kernel(h_grid_2.grid[4])))\n",
    "plt.subplots(1,N_h_1,figsize=(15,15))\n",
    "for i in range(N_h_1):\n",
    "    plt.subplot(1,N_h_1,i+1)\n",
    "    plt.imshow(kern_2_4[:,:,i,0,0],vmin=-0.02, vmax=0.02)\n",
    "plt.show()\n",
    "print('kernel(scale4): from left to right the planar kernels for each h')\n",
    "print('and so on...')"
   ]
  },
  {
   "cell_type": "markdown",
   "metadata": {},
   "source": [
    "Note the the above kernels only encode interactions between neighbouring scales."
   ]
  }
 ],
 "metadata": {
  "kernelspec": {
   "display_name": "Python 3",
   "language": "python",
   "name": "python3"
  },
  "language_info": {
   "codemirror_mode": {
    "name": "ipython",
    "version": 3
   },
   "file_extension": ".py",
   "mimetype": "text/x-python",
   "name": "python",
   "nbconvert_exporter": "python",
   "pygments_lexer": "ipython3",
   "version": "3.7.6"
  },
  "pycharm": {
   "stem_cell": {
    "cell_type": "raw",
    "source": [],
    "metadata": {
     "collapsed": false
    }
   }
  }
 },
 "nbformat": 4,
 "nbformat_minor": 2
}